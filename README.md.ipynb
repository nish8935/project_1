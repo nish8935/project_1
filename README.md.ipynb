{
 "cells": [
  {
   "cell_type": "markdown",
   "id": "4a4d84dc",
   "metadata": {},
   "source": [
    "# Dataset: \n",
    "\n",
    "### Investigating and Updating dataset:\n",
    "\n",
    "After exploring the dataset, minor modifications were made such as droping rows and columns with NAN and converting age from object type to int data type."
   ]
  },
  {
   "cell_type": "markdown",
   "id": "a6133566",
   "metadata": {},
   "source": [
    "## Summary of findings:\n",
    "After exploring the dataset, I came to a conclusion that good number of coupons were redeemed. The majority of coupouns were redeemed at 'Resturants' in comparion to the coupons. I further observed that drivers over 30 tend to visit the bar more in comparion to the others. I also oberseved around 40 percent of the bar coupons were redeemed, which considrably a good number from bussiness point."
   ]
  },
  {
   "cell_type": "code",
   "execution_count": null,
   "id": "ffa8739f",
   "metadata": {},
   "outputs": [],
   "source": []
  }
 ],
 "metadata": {
  "kernelspec": {
   "display_name": "Python 3 (ipykernel)",
   "language": "python",
   "name": "python3"
  },
  "language_info": {
   "codemirror_mode": {
    "name": "ipython",
    "version": 3
   },
   "file_extension": ".py",
   "mimetype": "text/x-python",
   "name": "python",
   "nbconvert_exporter": "python",
   "pygments_lexer": "ipython3",
   "version": "3.9.7"
  }
 },
 "nbformat": 4,
 "nbformat_minor": 5
}
